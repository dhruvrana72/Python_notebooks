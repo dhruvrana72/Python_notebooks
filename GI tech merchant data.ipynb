{
 "cells": [
  {
   "cell_type": "code",
   "execution_count": 1,
   "metadata": {
    "collapsed": true
   },
   "outputs": [],
   "source": [
    "import pandas as pd\n",
    "\n",
    "import numpy as np\n",
    "import matplotlib.pylab as plt\n",
    "from pandas.stats.api import ols\n",
    "import seaborn as sns"
   ]
  },
  {
   "cell_type": "markdown",
   "metadata": {},
   "source": [
    "### Enter the list of merchants"
   ]
  },
  {
   "cell_type": "code",
   "execution_count": 2,
   "metadata": {
    "collapsed": true
   },
   "outputs": [],
   "source": [
    "Merchant = ['INCJB039006429',\n",
    "'INHYD03900213M',\n",
    "'INLUH039000213',\n",
    "'INLUH03900100D',\n",
    "'INMAA0300021BU',\n",
    "'INPNQ03900112L',\n",
    "'INPNQ039001422',\n",
    "'INPNQ039001523']"
   ]
  },
  {
   "cell_type": "markdown",
   "metadata": {},
   "source": [
    "### Read the csv file"
   ]
  },
  {
   "cell_type": "code",
   "execution_count": 3,
   "metadata": {
    "collapsed": true
   },
   "outputs": [],
   "source": [
    "data = pd.read_csv('KYC_DAYWISE.csv')\n",
    "data_copy = data\n",
    "data_copy= data_copy.reset_index()"
   ]
  },
  {
   "cell_type": "markdown",
   "metadata": {},
   "source": [
    "### Make a list of data frames for each merchant"
   ]
  },
  {
   "cell_type": "code",
   "execution_count": 4,
   "metadata": {
    "collapsed": true
   },
   "outputs": [],
   "source": [
    "list_dfs = []\n",
    "for merchants in Merchant:\n",
    "    df_merc = data_copy.loc[data_copy.TERMINALID == str(merchants)]\n",
    "    df1 = pd.DataFrame()\n",
    "    df1['MONTH'] = df_merc['MONTH1']\n",
    "    df1['YEAR'] = df_merc['YEAR1']\n",
    "    df1['ICCDMRAMT'] = df_merc['ICCDMRAMT']\n",
    "    df1['Amt_wo_ICCDMR'] = df_merc['totalamount'] - (df_merc['ICCDMRAMT'])\n",
    "    df1['totalamount'] = df_merc['totalamount']\n",
    "    #df1['NonDMRAmount'] = df1['totalamount'] - df1['DMRamount']\n",
    "    df1['nonDMRcommission'] = df_merc['totalcommission']\n",
    "    df1['ICCDMRcommission_new'] = 0.009 * df_merc['ICCDMRAMT']\n",
    "    df1['Totalcommission_new'] = df1['nonDMRcommission'] + df1['ICCDMRcommission_new']\n",
    "    cols = df1.columns.tolist()\n",
    "    df2 = pd.DataFrame()\n",
    "    df2 = df1\n",
    "    a = (df1['Totalcommission_new'].sum())\n",
    "    df2 = pd.DataFrame(np.array([[str(merchants)]]), columns=['MONTH']).append(df2, ignore_index=True)\n",
    "    df2 = df2.append(pd.DataFrame(np.array([[a]]), columns=['Totalcommission_new']))\n",
    "    list_dfs.append(df2[cols])"
   ]
  },
  {
   "cell_type": "markdown",
   "metadata": {},
   "source": [
    "### Defining a function to write the data frames to excel file"
   ]
  },
  {
   "cell_type": "code",
   "execution_count": 7,
   "metadata": {
    "collapsed": false
   },
   "outputs": [],
   "source": [
    "from pandas import ExcelWriter\n",
    "def dfs2xlsx(list_dfs,xls_path = None):\n",
    "    #save_xls([df1,df2],'output1.xlsx')\n",
    "    if xls_path == None :\n",
    "        # name your excel file here\n",
    "        xls_path = 'asfas.xlsx'\n",
    "    writer = ExcelWriter(xls_path)\n",
    "    i=2\n",
    "    for n, df in enumerate(list_dfs):\n",
    "        # name your excel sheet here\n",
    "        df.to_excel(writer,'asfas',startcol=0,startrow =i)\n",
    "        i+= len(df.index) + 2\n",
    "    writer.save()"
   ]
  },
  {
   "cell_type": "code",
   "execution_count": 8,
   "metadata": {
    "collapsed": true
   },
   "outputs": [],
   "source": [
    "dfs2xlsx(list_dfs)"
   ]
  },
  {
   "cell_type": "code",
   "execution_count": null,
   "metadata": {
    "collapsed": true
   },
   "outputs": [],
   "source": []
  }
 ],
 "metadata": {
  "kernelspec": {
   "display_name": "Python 2",
   "language": "python",
   "name": "python2"
  },
  "language_info": {
   "codemirror_mode": {
    "name": "ipython",
    "version": 2
   },
   "file_extension": ".py",
   "mimetype": "text/x-python",
   "name": "python",
   "nbconvert_exporter": "python",
   "pygments_lexer": "ipython2",
   "version": "2.7.12"
  }
 },
 "nbformat": 4,
 "nbformat_minor": 1
}
